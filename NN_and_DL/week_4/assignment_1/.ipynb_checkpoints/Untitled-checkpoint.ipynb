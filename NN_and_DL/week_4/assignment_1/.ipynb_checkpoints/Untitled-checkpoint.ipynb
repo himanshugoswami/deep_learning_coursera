{
 "cells": [
  {
   "cell_type": "code",
   "execution_count": 57,
   "metadata": {},
   "outputs": [
    {
     "name": "stdout",
     "output_type": "stream",
     "text": [
      "The autoreload extension is already loaded. To reload it, use:\n",
      "  %reload_ext autoreload\n"
     ]
    }
   ],
   "source": [
    "### 1 - Important Packages\n",
    "\n",
    "import numpy as np\n",
    "import h5py\n",
    "import matplotlib.pyplot as plt\n",
    "\n",
    "%matplotlib inline\n",
    "plt.rcParams['figure.figsize'] = (5.0, 4.0) # set default size of plots\n",
    "plt.rcParams['image.interpolation'] = 'nearest'\n",
    "plt.rcParams['image.cmap'] = 'gray'\n",
    "\n",
    "%load_ext autoreload\n",
    "%autoreload 2\n",
    "\n",
    "np.random.seed(1)\n"
   ]
  },
  {
   "cell_type": "code",
   "execution_count": 109,
   "metadata": {},
   "outputs": [],
   "source": [
    "### 2 - initializing training set\n",
    "X_train = np.random.randn(1, 100000)\n",
    "Y_train = np.multiply(X_train,X_train)\n",
    "X_test = np.random.randn(1, 1000)\n",
    "Y_test = np.multiply(X_test, X_test)\n",
    "layer_dims = [1, 3, 4, 4, 1]"
   ]
  },
  {
   "cell_type": "code",
   "execution_count": 111,
   "metadata": {},
   "outputs": [],
   "source": [
    "### 3- Parameter Initialization\n",
    "def initialize_parameters_deep(layer_dims):\n",
    " \n",
    "    np.random.seed(3)\n",
    "    parameters = {}\n",
    "    L = len(layer_dims)            # number of layers in the network\n",
    "\n",
    "    for l in range(1, L):\n",
    "        ### START CODE HERE ### (≈ 2 lines of code)\n",
    "        parameters['W' + str(l)] = np.random.randn(layer_dims[l], layer_dims[l-1]) * 0.01\n",
    "        parameters['b' + str(l)] = np.zeros((layer_dims[l], 1))\n",
    "        ### END CODE HERE ###\n",
    "        \n",
    "        assert(parameters['W' + str(l)].shape == (layer_dims[l], layer_dims[l-1]))\n",
    "        assert(parameters['b' + str(l)].shape == (layer_dims[l], 1))\n",
    "\n",
    "    return parameters\n",
    "parameters = initialize_parameters_deep(layer_dims)"
   ]
  },
  {
   "cell_type": "code",
   "execution_count": 112,
   "metadata": {},
   "outputs": [],
   "source": [
    "### 4 - Activation Function\n",
    "\n",
    "def sigmoid(Z):\n",
    "    sig_activation = 1 / (1 + np.exp(-Z))\n",
    "    return sig_activation\n",
    "\n",
    "def relu(Z):\n",
    "    relu_activation = np.max(0, Z)\n",
    "    return relu_activation"
   ]
  },
  {
   "cell_type": "code",
   "execution_count": 113,
   "metadata": {},
   "outputs": [],
   "source": [
    "### 5 - Differentiation of Activation Function\n",
    "\n",
    "def diff_sigmoid(Z):\n",
    "    d_sig = np.multiply(sigmoid(Z), (1 - sigmoid(Z)))\n",
    "    return d_sig\n",
    "\n",
    "def diff_relu(Z):\n",
    "    Z = Z.T\n",
    "    d_relu = np.array([])\n",
    "    for i in Z:\n",
    "        if i < 0:\n",
    "            d_relu = np.append(d_relu, 0)\n",
    "        elif i == 0:\n",
    "            d_relu = np.append(d_relu, 0.5)\n",
    "        else:\n",
    "            d_relu = np.append(d_relu, 1)\n",
    "    d_relu = d_relu.T\n",
    "    return d_relu\n"
   ]
  },
  {
   "cell_type": "code",
   "execution_count": 114,
   "metadata": {},
   "outputs": [],
   "source": [
    "### 6 - Forward propagation\n",
    "\n",
    "def forward_propagation(X, parameters):\n",
    "\n",
    "    caches = []\n",
    "    L = len(layer_dims)\n",
    "    A = X\n",
    "    for l in range(1, L-1):\n",
    "        A_prev = A\n",
    "        Z = np.dot(parameters['W' + str(l)], A_prev) + parameters['b' + str(l)]\n",
    "        A = np.tanh(Z)\n",
    "        cache = (A, Z, parameters['W' + str(l)], parameters['b' + str(l)])\n",
    "        caches.append(cache)\n",
    "    Z = np.dot(parameters['W' + str(L-1)], A) + parameters['b' + str(L-1)]\n",
    "    AL = Z\n",
    "    cache = (AL, Z, parameters['W' + str(L-1)], parameters['b' + str(L-1)])\n",
    "    caches.append(cache)\n",
    "    assert(AL.shape == (1, X.shape[1]))\n",
    "    return AL, caches\n",
    "AL, caches = forward_propagation(X, parameters)"
   ]
  },
  {
   "cell_type": "code",
   "execution_count": 130,
   "metadata": {},
   "outputs": [],
   "source": [
    "### 7 - cost function\n",
    "def cost_function(AL, Y):\n",
    "    \n",
    "    cost = np.sum(np.power((AL-Y), 2)) / (2 * AL.shape[1])\n",
    "    #cost = -np.sum(np.multiply(Y, np.log(AL)) + np.multiply((1-Y),np.log(1-AL))) / AL.shape[1]\n",
    "    return cost\n",
    "cost = cost_function(AL, Y_train)"
   ]
  },
  {
   "cell_type": "code",
   "execution_count": 131,
   "metadata": {},
   "outputs": [],
   "source": [
    "### 7 - Backward propagation\n",
    "\n",
    "def back_propagation(AL, caches):\n",
    "    \n",
    "    L = len(layer_dims)\n",
    "    grads = {}\n",
    "    AL, ZL, WL, bL = caches[L-2]\n",
    "    A_L_1 , Z_L_1, W_L_1, b_L_1 = caches[L-3] \n",
    "    m = AL.shape[1]\n",
    "    dAL = AL\n",
    "    dZL = AL\n",
    "    W_l = WL\n",
    "    dZ_l = dZL\n",
    "    dWL = np.dot(dZL, A_L_1.T) / m \n",
    "    dA_L_1 = np.dot(WL.T, dZL)\n",
    "    dbL = np.sum(dZL, axis = 1, keepdims =True) / m\n",
    "    grads['dA' + str(L-3)], grads['dW' + str(L-2)], grads['db' + str(L-2)] = (dA_L_1, dWL, dbL)\n",
    "    for l in reversed(range(L-2)):\n",
    "        Al, Zl, Wl, bl = caches[l]\n",
    "        A_l_1, Z_l_1, W_l_1, b_l_1 = caches[l-1]\n",
    "        dZl = np.multiply(np.dot(W_l.T, dZ_l), (1-np.power(Al, 2)))\n",
    "        dWl = np.dot(dZl, A_l_1.T) / m\n",
    "        dbl = np.sum(dZl, axis = 1, keepdims = True) / m\n",
    "        dZ_l = dZl\n",
    "        W_l = Wl\n",
    "        dA_l_1 = np.dot(Wl.T, dZl)\n",
    "        grads['dA' + str(l-1)], grads['dW' + str(l)], grads['db' + str(l)] = (dA_l_1, dWl, dbl)\n",
    "    return grads\n",
    "grads = back_propagation(AL, caches)"
   ]
  },
  {
   "cell_type": "code",
   "execution_count": 132,
   "metadata": {},
   "outputs": [],
   "source": [
    "### 8 - Update Parameters\n",
    "def update_parameters(parameters, grads, learning_rate):\n",
    "\n",
    "    L = len(parameters) // 2\n",
    "    for l in range(L):\n",
    "        parameters['W' + str(l+1)] = parameters['W' + str(l+1)] - (learning_rate * grads['dW' + str(l)])\n",
    "        parameters['b' + str(l+1)] = parameters['b' + str(l+1)] - (learning_rate * grads['db' + str(l)])\n",
    "    return parameters\n",
    "parameters = update_parameters(parameters, grads, 0.005)"
   ]
  },
  {
   "cell_type": "code",
   "execution_count": 133,
   "metadata": {},
   "outputs": [],
   "source": [
    "### 9 - Putting all together\n",
    "def NN_model(X, Y, layers_dims, learning_rate = 0.0075, num_iterations = 3000, print_cost=False):\n",
    "    \n",
    "    np.random.seed(1)\n",
    "    costs = []\n",
    "    \n",
    "    parameters = initialize_parameters_deep(layer_dims)\n",
    "    \n",
    "    for i in range(0, num_iterations):\n",
    "        \n",
    "        AL, caches = forward_propagation(X, parameters)\n",
    "        \n",
    "        cost = cost_function(AL, Y)\n",
    "        \n",
    "        grads = back_propagation(AL, caches)\n",
    "        \n",
    "        parameters = update_parameters(parameters, grads, learning_rate)\n",
    "        \n",
    "        # Print the cost every 100 training example\n",
    "        if print_cost and i % 100 == 0:\n",
    "            print (\"Cost after iteration %i: %f\" %(i, cost))\n",
    "        if print_cost and i % 100 == 0:\n",
    "            costs.append(cost)\n",
    "            \n",
    "    # plot the cost\n",
    "    plt.plot(np.squeeze(costs))\n",
    "    plt.ylabel('cost')\n",
    "    plt.xlabel('iterations (per hundreds)')\n",
    "    plt.title(\"Learning rate =\" + str(learning_rate))\n",
    "    plt.show()\n",
    "    \n",
    "    return parameters"
   ]
  },
  {
   "cell_type": "code",
   "execution_count": 134,
   "metadata": {},
   "outputs": [
    {
     "name": "stdout",
     "output_type": "stream",
     "text": [
      "Cost after iteration 0: 1.487965\n",
      "Cost after iteration 100: 1.487965\n",
      "Cost after iteration 200: 1.487965\n",
      "Cost after iteration 300: 1.487965\n",
      "Cost after iteration 400: 1.487965\n",
      "Cost after iteration 500: 1.487965\n",
      "Cost after iteration 600: 1.487965\n",
      "Cost after iteration 700: 1.487965\n",
      "Cost after iteration 800: 1.487965\n",
      "Cost after iteration 900: 1.487965\n",
      "Cost after iteration 1000: 1.487965\n",
      "Cost after iteration 1100: 1.487965\n",
      "Cost after iteration 1200: 1.487965\n",
      "Cost after iteration 1300: 1.487965\n",
      "Cost after iteration 1400: 1.487965\n",
      "Cost after iteration 1500: 1.487965\n",
      "Cost after iteration 1600: 1.487965\n",
      "Cost after iteration 1700: 1.487965\n",
      "Cost after iteration 1800: 1.487965\n",
      "Cost after iteration 1900: 1.487965\n",
      "Cost after iteration 2000: 1.487965\n",
      "Cost after iteration 2100: 1.487965\n",
      "Cost after iteration 2200: 1.487965\n",
      "Cost after iteration 2300: 1.487965\n",
      "Cost after iteration 2400: 1.487965\n"
     ]
    },
    {
     "data": {
      "image/png": "[encoded data removed]",
      "text/plain": [
       "<Figure size 360x288 with 1 Axes>"
      ]
     },
     "metadata": {
      "needs_background": "light"
     },
     "output_type": "display_data"
    }
   ],
   "source": [
    "parameters = NN_model(X_train, Y_train, layer_dims, num_iterations = 2500, print_cost = True)"
   ]
  },
  {
   "cell_type": "code",
   "execution_count": 137,
   "metadata": {},
   "outputs": [
    {
     "name": "stdout",
     "output_type": "stream",
     "text": [
      "Accuracy: 0.0\n",
      "[[0. 0. 0. ... 0. 0. 0.]]\n"
     ]
    }
   ],
   "source": [
    "def predict(X, Y, parameters):\n",
    "    \n",
    "    m = X.shape[1]\n",
    "    n = len(parameters) // 2 # number of layers in the neural network\n",
    "    p = np.zeros((1,m))\n",
    "    \n",
    "    # Forward propagation\n",
    "    probas, caches = forward_propagation(X, parameters)\n",
    "\n",
    "    \n",
    "    # convert probas to 0/1 predictions\n",
    "    for i in range(0, probas.shape[1]):\n",
    "        if probas[0,i] > 0.5:\n",
    "            p[0,i] = 1\n",
    "        else:\n",
    "            p[0,i] = 0\n",
    "    \n",
    "    #print results\n",
    "    #print (\"predictions: \" + str(p))\n",
    "    #print (\"true labels: \" + str(y))\n",
    "    print(\"Accuracy: \"  + str(np.sum((p == Y)/m)))\n",
    "        \n",
    "    return p\n",
    "print(predict(X_train, Y_train, parameters))"
   ]
  },
  {
   "cell_type": "code",
   "execution_count": null,
   "metadata": {},
   "outputs": [],
   "source": []
  }
 ],
 "metadata": {
  "kernelspec": {
   "display_name": "Python 3",
   "language": "python",
   "name": "python3"
  },
  "language_info": {
   "codemirror_mode": {
    "name": "ipython",
    "version": 3
   },
   "file_extension": ".py",
   "mimetype": "text/x-python",
   "name": "python",
   "nbconvert_exporter": "python",
   "pygments_lexer": "ipython3",
   "version": "3.7.3"
  }
 },
 "nbformat": 4,
 "nbformat_minor": 2
}
